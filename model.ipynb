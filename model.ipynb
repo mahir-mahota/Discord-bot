{
 "cells": [
  {
   "cell_type": "markdown",
   "id": "8c9df6a0-5091-4c11-a62f-902519c508cd",
   "metadata": {},
   "source": [
    "<h1>Loading and preprocessing data</h1>"
   ]
  },
  {
   "cell_type": "code",
   "execution_count": 1,
   "id": "fbdfd9a4-8989-4bbc-8bfa-e35ccb1042cf",
   "metadata": {},
   "outputs": [],
   "source": [
    "import tensorflow as tf\n",
    "from tensorflow import keras\n",
    "from keras.layers import TextVectorization\n",
    "import pandas as pd"
   ]
  },
  {
   "cell_type": "code",
   "execution_count": 2,
   "id": "53b55423-a14e-4166-af47-c33e49d01ac7",
   "metadata": {},
   "outputs": [],
   "source": [
    "gpu = tf.config.list_physical_devices('GPU')\n",
    "tf.config.experimental.set_memory_growth(gpu[0], True)"
   ]
  },
  {
   "cell_type": "code",
   "execution_count": 3,
   "id": "3a9bbad0-73c1-4dd5-9be7-e5cce4d8edb5",
   "metadata": {},
   "outputs": [],
   "source": [
    "sheet = pd.read_csv('IMDB Dataset.csv')"
   ]
  },
  {
   "cell_type": "code",
   "execution_count": 4,
   "id": "02810157-3185-4027-b80a-caf08a3ba272",
   "metadata": {},
   "outputs": [
    {
     "data": {
      "text/html": [
       "<div>\n",
       "<style scoped>\n",
       "    .dataframe tbody tr th:only-of-type {\n",
       "        vertical-align: middle;\n",
       "    }\n",
       "\n",
       "    .dataframe tbody tr th {\n",
       "        vertical-align: top;\n",
       "    }\n",
       "\n",
       "    .dataframe thead th {\n",
       "        text-align: right;\n",
       "    }\n",
       "</style>\n",
       "<table border=\"1\" class=\"dataframe\">\n",
       "  <thead>\n",
       "    <tr style=\"text-align: right;\">\n",
       "      <th></th>\n",
       "      <th>Review</th>\n",
       "      <th>Sentiment</th>\n",
       "    </tr>\n",
       "  </thead>\n",
       "  <tbody>\n",
       "    <tr>\n",
       "      <th>0</th>\n",
       "      <td>One of the other reviewers has mentioned that ...</td>\n",
       "      <td>1</td>\n",
       "    </tr>\n",
       "    <tr>\n",
       "      <th>1</th>\n",
       "      <td>A wonderful little production. &lt;br /&gt;&lt;br /&gt;The...</td>\n",
       "      <td>1</td>\n",
       "    </tr>\n",
       "    <tr>\n",
       "      <th>2</th>\n",
       "      <td>I thought this was a wonderful way to spend ti...</td>\n",
       "      <td>1</td>\n",
       "    </tr>\n",
       "    <tr>\n",
       "      <th>3</th>\n",
       "      <td>Basically there's a family where a little boy ...</td>\n",
       "      <td>0</td>\n",
       "    </tr>\n",
       "    <tr>\n",
       "      <th>4</th>\n",
       "      <td>Petter Mattei's \"Love in the Time of Money\" is...</td>\n",
       "      <td>1</td>\n",
       "    </tr>\n",
       "    <tr>\n",
       "      <th>...</th>\n",
       "      <td>...</td>\n",
       "      <td>...</td>\n",
       "    </tr>\n",
       "    <tr>\n",
       "      <th>49995</th>\n",
       "      <td>I thought this movie did a down right good job...</td>\n",
       "      <td>1</td>\n",
       "    </tr>\n",
       "    <tr>\n",
       "      <th>49996</th>\n",
       "      <td>Bad plot, bad dialogue, bad acting, idiotic di...</td>\n",
       "      <td>0</td>\n",
       "    </tr>\n",
       "    <tr>\n",
       "      <th>49997</th>\n",
       "      <td>I am a Catholic taught in parochial elementary...</td>\n",
       "      <td>0</td>\n",
       "    </tr>\n",
       "    <tr>\n",
       "      <th>49998</th>\n",
       "      <td>I'm going to have to disagree with the previou...</td>\n",
       "      <td>0</td>\n",
       "    </tr>\n",
       "    <tr>\n",
       "      <th>49999</th>\n",
       "      <td>No one expects the Star Trek movies to be high...</td>\n",
       "      <td>0</td>\n",
       "    </tr>\n",
       "  </tbody>\n",
       "</table>\n",
       "<p>50000 rows × 2 columns</p>\n",
       "</div>"
      ],
      "text/plain": [
       "                                                  Review  Sentiment\n",
       "0      One of the other reviewers has mentioned that ...          1\n",
       "1      A wonderful little production. <br /><br />The...          1\n",
       "2      I thought this was a wonderful way to spend ti...          1\n",
       "3      Basically there's a family where a little boy ...          0\n",
       "4      Petter Mattei's \"Love in the Time of Money\" is...          1\n",
       "...                                                  ...        ...\n",
       "49995  I thought this movie did a down right good job...          1\n",
       "49996  Bad plot, bad dialogue, bad acting, idiotic di...          0\n",
       "49997  I am a Catholic taught in parochial elementary...          0\n",
       "49998  I'm going to have to disagree with the previou...          0\n",
       "49999  No one expects the Star Trek movies to be high...          0\n",
       "\n",
       "[50000 rows x 2 columns]"
      ]
     },
     "execution_count": 4,
     "metadata": {},
     "output_type": "execute_result"
    }
   ],
   "source": [
    "sheet"
   ]
  },
  {
   "cell_type": "code",
   "execution_count": 5,
   "id": "03f8e7eb-04cb-43d3-be55-b20b2af1d726",
   "metadata": {},
   "outputs": [],
   "source": [
    "x = sheet['Review']\n",
    "y = sheet['Sentiment']"
   ]
  },
  {
   "cell_type": "code",
   "execution_count": 6,
   "id": "0030040b-77f4-4b4b-88c8-600cc9f68bc1",
   "metadata": {},
   "outputs": [],
   "source": [
    "MAX_FEATURES = 500_000\n",
    "OUTPUT_LENGTH = 1_500"
   ]
  },
  {
   "cell_type": "code",
   "execution_count": 7,
   "id": "2281ef79-6b07-4d6a-8a99-eecbd44ab924",
   "metadata": {},
   "outputs": [],
   "source": [
    "vectorizer = TextVectorization(max_tokens = MAX_FEATURES,\n",
    "                               output_sequence_length = OUTPUT_LENGTH,\n",
    "                               output_mode = 'int')"
   ]
  },
  {
   "cell_type": "code",
   "execution_count": 8,
   "id": "4445d8ad-353a-404f-a278-69e4212731c0",
   "metadata": {},
   "outputs": [],
   "source": [
    "vectorizer.adapt(x)"
   ]
  },
  {
   "cell_type": "code",
   "execution_count": 9,
   "id": "c37177d4-c5d6-4519-aac0-53693740b3c4",
   "metadata": {},
   "outputs": [],
   "source": [
    "vectorized_text = vectorizer(x)"
   ]
  },
  {
   "cell_type": "code",
   "execution_count": 10,
   "id": "6cf1bc9a-6b1d-4c76-aa72-a2f77155f52b",
   "metadata": {},
   "outputs": [],
   "source": [
    "data = tf.data.Dataset.from_tensor_slices((vectorized_text, y))\n",
    "data = data.cache()\n",
    "data = data.shuffle(50_001)\n",
    "data = data.batch(32)\n",
    "data = data.prefetch(16)"
   ]
  },
  {
   "cell_type": "code",
   "execution_count": 11,
   "id": "1beb5d8f-148b-435b-9f12-f114f88fedee",
   "metadata": {},
   "outputs": [],
   "source": [
    "DATA_SIZE = len(data)\n",
    "training = data.take(int(DATA_SIZE*0.7))\n",
    "validation = data.skip(int(DATA_SIZE*0.7)).take(int(DATA_SIZE*0.2))\n",
    "testing = data.skip(int(DATA_SIZE*0.7)).skip(int(DATA_SIZE*0.2)).take(int(DATA_SIZE*0.1))"
   ]
  },
  {
   "cell_type": "markdown",
   "id": "c7ea2f58-4101-4a54-bf1c-1c261f05e7fe",
   "metadata": {},
   "source": [
    "<h1>Creating and running the model</h1>"
   ]
  },
  {
   "cell_type": "code",
   "execution_count": 12,
   "id": "c060e358-4ddb-435d-8f9a-d3d489f321bd",
   "metadata": {},
   "outputs": [],
   "source": [
    "from keras.models import Sequential\n",
    "from keras.layers import Embedding, Bidirectional, LSTM, Dense, Input"
   ]
  },
  {
   "cell_type": "code",
   "execution_count": 13,
   "id": "982b178d-69bc-4d2e-b60d-de5930bb4ca3",
   "metadata": {},
   "outputs": [],
   "source": [
    "model = Sequential()\n",
    "model.add(Embedding(MAX_FEATURES + 1, 32))\n",
    "model.add(Bidirectional(LSTM(32, activation = 'tanh')))\n",
    "\n",
    "model.add(Dense(256, activation = 'relu'))\n",
    "model.add(Dense(512, activation = 'relu'))\n",
    "model.add(Dense(256, activation = 'relu'))\n",
    "\n",
    "model.add(Dense(1, activation = 'sigmoid'))"
   ]
  },
  {
   "cell_type": "code",
   "execution_count": 14,
   "id": "e722afb5-1144-4656-bc36-08fc4e9d3dc0",
   "metadata": {},
   "outputs": [],
   "source": [
    "model.compile(optimizer = 'Adam', loss = 'BinaryCrossentropy', metrics = ['accuracy'])"
   ]
  },
  {
   "cell_type": "code",
   "execution_count": 15,
   "id": "21f5ec81-c5f1-4b94-9495-2cb3af0b6265",
   "metadata": {},
   "outputs": [
    {
     "name": "stdout",
     "output_type": "stream",
     "text": [
      "Model: \"sequential\"\n",
      "_________________________________________________________________\n",
      " Layer (type)                Output Shape              Param #   \n",
      "=================================================================\n",
      " embedding (Embedding)       (None, None, 32)          16000032  \n",
      "                                                                 \n",
      " bidirectional (Bidirectiona  (None, 64)               16640     \n",
      " l)                                                              \n",
      "                                                                 \n",
      " dense (Dense)               (None, 256)               16640     \n",
      "                                                                 \n",
      " dense_1 (Dense)             (None, 512)               131584    \n",
      "                                                                 \n",
      " dense_2 (Dense)             (None, 256)               131328    \n",
      "                                                                 \n",
      " dense_3 (Dense)             (None, 1)                 257       \n",
      "                                                                 \n",
      "=================================================================\n",
      "Total params: 16,296,481\n",
      "Trainable params: 16,296,481\n",
      "Non-trainable params: 0\n",
      "_________________________________________________________________\n"
     ]
    }
   ],
   "source": [
    "model.summary()"
   ]
  },
  {
   "cell_type": "code",
   "execution_count": 28,
   "id": "dd399584-dc43-42e1-8523-89c27ef5090a",
   "metadata": {},
   "outputs": [
    {
     "name": "stdout",
     "output_type": "stream",
     "text": [
      "Epoch 1/4\n",
      "1094/1094 [==============================] - 384s 351ms/step - loss: 0.1709 - accuracy: 0.9382 - val_loss: 0.0901 - val_accuracy: 0.9712\n",
      "Epoch 2/4\n",
      "1094/1094 [==============================] - 393s 360ms/step - loss: 0.1071 - accuracy: 0.9650 - val_loss: 0.0594 - val_accuracy: 0.9830\n",
      "Epoch 3/4\n",
      "1094/1094 [==============================] - 308s 282ms/step - loss: 0.0750 - accuracy: 0.9768 - val_loss: 0.0461 - val_accuracy: 0.9863\n",
      "Epoch 4/4\n",
      "1094/1094 [==============================] - 284s 259ms/step - loss: 0.0969 - accuracy: 0.9657 - val_loss: 0.0505 - val_accuracy: 0.9853\n"
     ]
    }
   ],
   "source": [
    "history = model.fit(training, epochs = 6, validation_data = validation)"
   ]
  },
  {
   "cell_type": "code",
   "execution_count": null,
   "id": "7cfa3bd3-281c-4ad7-a326-1213785b96b8",
   "metadata": {},
   "outputs": [
    {
     "name": "stdout",
     "output_type": "stream",
     "text": [
      "  6/156 [>.............................] - ETA: 40s - loss: 0.6930 - accuracy: 0.5156"
     ]
    }
   ],
   "source": [
    "model.evaluate(testing)"
   ]
  },
  {
   "cell_type": "code",
   "execution_count": 38,
   "id": "e22d5793-6777-44fe-8c3a-7e28da799027",
   "metadata": {},
   "outputs": [],
   "source": [
    "model.save('model.h5')"
   ]
  },
  {
   "cell_type": "code",
   "execution_count": 16,
   "id": "3d33cf90-8b82-4908-abfb-8443d35fbd7c",
   "metadata": {},
   "outputs": [],
   "source": [
    "v_model = Sequential()\n",
    "v_model.add(Input(shape=(1,)))\n",
    "v_model.add(vectorizer)"
   ]
  },
  {
   "cell_type": "code",
   "execution_count": 17,
   "id": "c2e287b1-3478-4212-85fb-e4e4aeed2197",
   "metadata": {},
   "outputs": [
    {
     "name": "stdout",
     "output_type": "stream",
     "text": [
      "WARNING:tensorflow:Compiled the loaded model, but the compiled metrics have yet to be built. `model.compile_metrics` will be empty until you train or evaluate the model.\n",
      "INFO:tensorflow:Assets written to: vector_model.tf\\assets\n"
     ]
    }
   ],
   "source": [
    "v_model.save('vector_model.tf')"
   ]
  }
 ],
 "metadata": {
  "kernelspec": {
   "display_name": "Discord-bot",
   "language": "python",
   "name": "env"
  },
  "language_info": {
   "codemirror_mode": {
    "name": "ipython",
    "version": 3
   },
   "file_extension": ".py",
   "mimetype": "text/x-python",
   "name": "python",
   "nbconvert_exporter": "python",
   "pygments_lexer": "ipython3",
   "version": "3.10.7"
  }
 },
 "nbformat": 4,
 "nbformat_minor": 5
}
